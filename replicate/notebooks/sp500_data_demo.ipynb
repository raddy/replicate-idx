{
 "cells": [
  {
   "cell_type": "code",
   "execution_count": 1,
   "metadata": {},
   "outputs": [
    {
     "ename": "AttributeError",
     "evalue": "'DataLoader' object has no attribute 'load_data'",
     "output_type": "error",
     "traceback": [
      "\u001b[0;31m---------------------------------------------------------------------------\u001b[0m",
      "\u001b[0;31mAttributeError\u001b[0m                            Traceback (most recent call last)",
      "Cell \u001b[0;32mIn[1], line 13\u001b[0m\n\u001b[1;32m     10\u001b[0m START_DATE \u001b[38;5;241m=\u001b[39m \u001b[38;5;124m'\u001b[39m\u001b[38;5;124m2010-01-01\u001b[39m\u001b[38;5;124m'\u001b[39m\n\u001b[1;32m     11\u001b[0m END_DATE \u001b[38;5;241m=\u001b[39m \u001b[38;5;124m'\u001b[39m\u001b[38;5;124m2010-12-31\u001b[39m\u001b[38;5;124m'\u001b[39m\n\u001b[0;32m---> 13\u001b[0m data \u001b[38;5;241m=\u001b[39m \u001b[43mtrain_test_split_data\u001b[49m\u001b[43m(\u001b[49m\n\u001b[1;32m     14\u001b[0m \u001b[43m    \u001b[49m\u001b[43mloader\u001b[49m\u001b[38;5;241;43m=\u001b[39;49m\u001b[43mloader\u001b[49m\u001b[43m,\u001b[49m\n\u001b[1;32m     15\u001b[0m \u001b[43m    \u001b[49m\u001b[43mdata_type\u001b[49m\u001b[38;5;241;43m=\u001b[39;49m\u001b[43mDataLoader\u001b[49m\u001b[38;5;241;43m.\u001b[39;49m\u001b[43mSP500_2010\u001b[49m\u001b[43m,\u001b[49m\n\u001b[1;32m     16\u001b[0m \u001b[43m    \u001b[49m\u001b[43mtarget_symbol\u001b[49m\u001b[38;5;241;43m=\u001b[39;49m\u001b[43msym\u001b[49m\u001b[43m,\u001b[49m\n\u001b[1;32m     17\u001b[0m \u001b[43m    \u001b[49m\u001b[43mtrain_pct\u001b[49m\u001b[38;5;241;43m=\u001b[39;49m\u001b[38;5;241;43m0.5\u001b[39;49m\u001b[43m,\u001b[49m\n\u001b[1;32m     18\u001b[0m \u001b[43m    \u001b[49m\u001b[43mstart_date\u001b[49m\u001b[38;5;241;43m=\u001b[39;49m\u001b[43mSTART_DATE\u001b[49m\u001b[43m,\u001b[49m\n\u001b[1;32m     19\u001b[0m \u001b[43m    \u001b[49m\u001b[43mend_date\u001b[49m\u001b[38;5;241;43m=\u001b[39;49m\u001b[43mEND_DATE\u001b[49m\u001b[43m,\u001b[49m\n\u001b[1;32m     20\u001b[0m \u001b[43m    \u001b[49m\u001b[43mtime_col\u001b[49m\u001b[38;5;241;43m=\u001b[39;49m\u001b[38;5;124;43m'\u001b[39;49m\u001b[38;5;124;43mDate\u001b[39;49m\u001b[38;5;124;43m'\u001b[39;49m\n\u001b[1;32m     21\u001b[0m \u001b[43m)\u001b[49m\n\u001b[1;32m     23\u001b[0m result_dict \u001b[38;5;241m=\u001b[39m optimizer\u001b[38;5;241m.\u001b[39moptimize(\n\u001b[1;32m     24\u001b[0m     data[\u001b[38;5;124m'\u001b[39m\u001b[38;5;124mtrain\u001b[39m\u001b[38;5;124m'\u001b[39m][\u001b[38;5;124m'\u001b[39m\u001b[38;5;124mX\u001b[39m\u001b[38;5;124m'\u001b[39m], \n\u001b[1;32m     25\u001b[0m     data[\u001b[38;5;124m'\u001b[39m\u001b[38;5;124mtrain\u001b[39m\u001b[38;5;124m'\u001b[39m][\u001b[38;5;124m'\u001b[39m\u001b[38;5;124mr\u001b[39m\u001b[38;5;124m'\u001b[39m], \n\u001b[0;32m   (...)\u001b[0m\n\u001b[1;32m     30\u001b[0m     hub\u001b[38;5;241m=\u001b[39m\u001b[38;5;241m0.5\u001b[39m\n\u001b[1;32m     31\u001b[0m )\n\u001b[1;32m     33\u001b[0m \u001b[38;5;66;03m# Create equal weights\u001b[39;00m\n",
      "File \u001b[0;32m~/sorcery/replicate-idx/replicate/data/analysis.py:49\u001b[0m, in \u001b[0;36mtrain_test_split_data\u001b[0;34m(loader, data_type, target_symbol, train_pct, start_date, end_date, max_null_pct, time_col)\u001b[0m\n\u001b[1;32m     19\u001b[0m \u001b[38;5;250m\u001b[39m\u001b[38;5;124;03m\"\"\"\u001b[39;00m\n\u001b[1;32m     20\u001b[0m \u001b[38;5;124;03mLoad data and split into train/test sets with metrics.\u001b[39;00m\n\u001b[1;32m     21\u001b[0m \u001b[38;5;124;03m\u001b[39;00m\n\u001b[0;32m   (...)\u001b[0m\n\u001b[1;32m     46\u001b[0m \u001b[38;5;124;03m    }\u001b[39;00m\n\u001b[1;32m     47\u001b[0m \u001b[38;5;124;03m\"\"\"\u001b[39;00m\n\u001b[1;32m     48\u001b[0m \u001b[38;5;66;03m# Load data lazily\u001b[39;00m\n\u001b[0;32m---> 49\u001b[0m target, constituents \u001b[38;5;241m=\u001b[39m \u001b[43mloader\u001b[49m\u001b[38;5;241;43m.\u001b[39;49m\u001b[43mload_data\u001b[49m(\n\u001b[1;32m     50\u001b[0m     data_type\u001b[38;5;241m=\u001b[39mdata_type,\n\u001b[1;32m     51\u001b[0m     target_symbol\u001b[38;5;241m=\u001b[39mtarget_symbol,\n\u001b[1;32m     52\u001b[0m     start_date\u001b[38;5;241m=\u001b[39mstart_date,\n\u001b[1;32m     53\u001b[0m     end_date\u001b[38;5;241m=\u001b[39mend_date,\n\u001b[1;32m     54\u001b[0m     max_null_pct\u001b[38;5;241m=\u001b[39mmax_null_pct\n\u001b[1;32m     55\u001b[0m )\n\u001b[1;32m     57\u001b[0m \u001b[38;5;66;03m# Get total number of rows for splitting\u001b[39;00m\n\u001b[1;32m     58\u001b[0m n_samples \u001b[38;5;241m=\u001b[39m target\u001b[38;5;241m.\u001b[39mselect(pl\u001b[38;5;241m.\u001b[39mcount())\u001b[38;5;241m.\u001b[39mcollect()\u001b[38;5;241m.\u001b[39mitem()\n",
      "\u001b[0;31mAttributeError\u001b[0m: 'DataLoader' object has no attribute 'load_data'"
     ]
    }
   ],
   "source": [
    "from replicate.data.loading import DataLoader\n",
    "from replicate.data.analysis import train_test_split_data, analyze_train_test_results\n",
    "from replicate.optimizers.mm import MMOptimizer\n",
    "\n",
    "# Initialize loader and optimizer\n",
    "loader = DataLoader()\n",
    "optimizer = MMOptimizer(measure='ete')\n",
    "\n",
    "sym = 'SP500'\n",
    "START_DATE = '2010-01-01'\n",
    "END_DATE = '2010-12-31'\n",
    "\n",
    "data = train_test_split_data(\n",
    "    loader=loader,\n",
    "    data_type=DataLoader.SP500_2010,\n",
    "    target_symbol=sym,\n",
    "    train_pct=0.5,\n",
    "    start_date=START_DATE,\n",
    "    end_date=END_DATE,\n",
    "    time_col='Date'\n",
    ")\n",
    "\n",
    "result_dict = optimizer.optimize(\n",
    "    data['train']['X'], \n",
    "    data['train']['r'], \n",
    "    lambda_=1e-7, \n",
    "    u=0.025, \n",
    "    p_neg_exp=8, \n",
    "    thres=1e-3,\n",
    "    hub=0.5\n",
    ")\n",
    "\n",
    "# Create equal weights\n",
    "n_assets = len(result_dict['weights'])\n",
    "equal_weights = np.ones(n_assets) / n_assets\n",
    "\n",
    "# Debug the data\n",
    "debug_data_scaling(data['train'], data['test'], equal_weights)\n",
    "\n",
    "train_metrics, test_metrics = analyze_train_test_results(\n",
    "    train_data=data['train'],\n",
    "    test_data=data['test'],\n",
    "    weights=random_weights,\n",
    "    asset_names=data['asset_names'],\n",
    "    title_prefix=f\"{sym} Tracking\",\n",
    "    plot_combined=True  # This will use the new combined visualization\n",
    ")"
   ]
  },
  {
   "cell_type": "code",
   "execution_count": 4,
   "metadata": {},
   "outputs": [
    {
     "data": {
      "text/plain": [
       "array([ 0.02055915, -0.00801612,  0.01907032, ..., -0.01432491,\n",
       "        0.0081662 , -0.04509627])"
      ]
     },
     "execution_count": 4,
     "metadata": {},
     "output_type": "execute_result"
    }
   ],
   "source": [
    "data['train']['r']"
   ]
  },
  {
   "cell_type": "code",
   "execution_count": 13,
   "metadata": {},
   "outputs": [
    {
     "data": {
      "text/plain": [
       "np.float64(0.9999999999999998)"
      ]
     },
     "execution_count": 13,
     "metadata": {},
     "output_type": "execute_result"
    }
   ],
   "source": [
    "import numpy as np\n",
    "np.random.shuffle(result_dict['weights'])\n",
    "result_dict['weights'].sum()"
   ]
  },
  {
   "cell_type": "code",
   "execution_count": null,
   "metadata": {},
   "outputs": [],
   "source": []
  }
 ],
 "metadata": {
  "kernelspec": {
   "display_name": "base",
   "language": "python",
   "name": "python3"
  },
  "language_info": {
   "codemirror_mode": {
    "name": "ipython",
    "version": 3
   },
   "file_extension": ".py",
   "mimetype": "text/x-python",
   "name": "python",
   "nbconvert_exporter": "python",
   "pygments_lexer": "ipython3",
   "version": "3.11.5"
  }
 },
 "nbformat": 4,
 "nbformat_minor": 2
}
