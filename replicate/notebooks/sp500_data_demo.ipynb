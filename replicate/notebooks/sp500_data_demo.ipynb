{
 "cells": [
  {
   "cell_type": "code",
   "execution_count": 1,
   "metadata": {},
   "outputs": [
    {
     "ename": "ValueError",
     "evalue": "Constraints impossible to satisfy: with 1 assets and max weight 0.025, maximum possible weight sum is 0.03. Either increase u to at least 1.000 or provide more assets.",
     "output_type": "error",
     "traceback": [
      "\u001b[0;31m---------------------------------------------------------------------------\u001b[0m",
      "\u001b[0;31mValueError\u001b[0m                                Traceback (most recent call last)",
      "Cell \u001b[0;32mIn[1], line 23\u001b[0m\n\u001b[1;32m     11\u001b[0m END_DATE \u001b[38;5;241m=\u001b[39m \u001b[38;5;124m'\u001b[39m\u001b[38;5;124m2010-12-31\u001b[39m\u001b[38;5;124m'\u001b[39m\n\u001b[1;32m     13\u001b[0m data \u001b[38;5;241m=\u001b[39m train_test_split_data(\n\u001b[1;32m     14\u001b[0m     loader\u001b[38;5;241m=\u001b[39mloader,\n\u001b[1;32m     15\u001b[0m     data_type\u001b[38;5;241m=\u001b[39mDataLoader\u001b[38;5;241m.\u001b[39mSP500_2010,\n\u001b[0;32m   (...)\u001b[0m\n\u001b[1;32m     20\u001b[0m     time_col\u001b[38;5;241m=\u001b[39m\u001b[38;5;124m'\u001b[39m\u001b[38;5;124mDate\u001b[39m\u001b[38;5;124m'\u001b[39m\n\u001b[1;32m     21\u001b[0m )\n\u001b[0;32m---> 23\u001b[0m result_dict \u001b[38;5;241m=\u001b[39m \u001b[43moptimizer\u001b[49m\u001b[38;5;241;43m.\u001b[39;49m\u001b[43moptimize\u001b[49m\u001b[43m(\u001b[49m\n\u001b[1;32m     24\u001b[0m \u001b[43m    \u001b[49m\u001b[43mdata\u001b[49m\u001b[43m[\u001b[49m\u001b[38;5;124;43m'\u001b[39;49m\u001b[38;5;124;43mtrain\u001b[39;49m\u001b[38;5;124;43m'\u001b[39;49m\u001b[43m]\u001b[49m\u001b[43m[\u001b[49m\u001b[38;5;124;43m'\u001b[39;49m\u001b[38;5;124;43mX\u001b[39;49m\u001b[38;5;124;43m'\u001b[39;49m\u001b[43m]\u001b[49m\u001b[43m,\u001b[49m\u001b[43m \u001b[49m\n\u001b[1;32m     25\u001b[0m \u001b[43m    \u001b[49m\u001b[43mdata\u001b[49m\u001b[43m[\u001b[49m\u001b[38;5;124;43m'\u001b[39;49m\u001b[38;5;124;43mtrain\u001b[39;49m\u001b[38;5;124;43m'\u001b[39;49m\u001b[43m]\u001b[49m\u001b[43m[\u001b[49m\u001b[38;5;124;43m'\u001b[39;49m\u001b[38;5;124;43mr\u001b[39;49m\u001b[38;5;124;43m'\u001b[39;49m\u001b[43m]\u001b[49m\u001b[43m,\u001b[49m\u001b[43m \u001b[49m\n\u001b[1;32m     26\u001b[0m \u001b[43m    \u001b[49m\u001b[43mlambda_\u001b[49m\u001b[38;5;241;43m=\u001b[39;49m\u001b[38;5;241;43m1e-7\u001b[39;49m\u001b[43m,\u001b[49m\u001b[43m \u001b[49m\n\u001b[1;32m     27\u001b[0m \u001b[43m    \u001b[49m\u001b[43mu\u001b[49m\u001b[38;5;241;43m=\u001b[39;49m\u001b[38;5;241;43m0.025\u001b[39;49m\u001b[43m,\u001b[49m\u001b[43m \u001b[49m\n\u001b[1;32m     28\u001b[0m \u001b[43m    \u001b[49m\u001b[43mp_neg_exp\u001b[49m\u001b[38;5;241;43m=\u001b[39;49m\u001b[38;5;241;43m8\u001b[39;49m\u001b[43m,\u001b[49m\u001b[43m \u001b[49m\n\u001b[1;32m     29\u001b[0m \u001b[43m    \u001b[49m\u001b[43mthres\u001b[49m\u001b[38;5;241;43m=\u001b[39;49m\u001b[38;5;241;43m1e-3\u001b[39;49m\u001b[43m,\u001b[49m\n\u001b[1;32m     30\u001b[0m \u001b[43m    \u001b[49m\u001b[43mhub\u001b[49m\u001b[38;5;241;43m=\u001b[39;49m\u001b[38;5;241;43m0.5\u001b[39;49m\n\u001b[1;32m     31\u001b[0m \u001b[43m)\u001b[49m\n\u001b[1;32m     33\u001b[0m \u001b[38;5;66;03m# Create equal weights\u001b[39;00m\n\u001b[1;32m     34\u001b[0m n_assets \u001b[38;5;241m=\u001b[39m \u001b[38;5;28mlen\u001b[39m(result_dict[\u001b[38;5;124m'\u001b[39m\u001b[38;5;124mweights\u001b[39m\u001b[38;5;124m'\u001b[39m])\n",
      "File \u001b[0;32m~/sorcery/replicate-idx/replicate/optimizers/mm.py:86\u001b[0m, in \u001b[0;36mMMOptimizer.optimize\u001b[0;34m(self, X, r, lambda_, u, p_neg_exp, max_iter, thres, w0, hub)\u001b[0m\n\u001b[1;32m     83\u001b[0m m, n \u001b[38;5;241m=\u001b[39m X\u001b[38;5;241m.\u001b[39mshape\n\u001b[1;32m     85\u001b[0m \u001b[38;5;28;01mif\u001b[39;00m n \u001b[38;5;241m*\u001b[39m u \u001b[38;5;241m<\u001b[39m \u001b[38;5;241m1\u001b[39m:\n\u001b[0;32m---> 86\u001b[0m     \u001b[38;5;28;01mraise\u001b[39;00m \u001b[38;5;167;01mValueError\u001b[39;00m(\n\u001b[1;32m     87\u001b[0m         \u001b[38;5;124mf\u001b[39m\u001b[38;5;124m\"\u001b[39m\u001b[38;5;124mConstraints impossible to satisfy: with \u001b[39m\u001b[38;5;132;01m{\u001b[39;00mn\u001b[38;5;132;01m}\u001b[39;00m\u001b[38;5;124m assets and max weight \u001b[39m\u001b[38;5;132;01m{\u001b[39;00mu\u001b[38;5;132;01m}\u001b[39;00m\u001b[38;5;124m, \u001b[39m\u001b[38;5;124m\"\u001b[39m\n\u001b[1;32m     88\u001b[0m         \u001b[38;5;124mf\u001b[39m\u001b[38;5;124m\"\u001b[39m\u001b[38;5;124mmaximum possible weight sum is \u001b[39m\u001b[38;5;132;01m{\u001b[39;00mn\u001b[38;5;241m*\u001b[39mu\u001b[38;5;132;01m:\u001b[39;00m\u001b[38;5;124m.2f\u001b[39m\u001b[38;5;132;01m}\u001b[39;00m\u001b[38;5;124m. Either increase u to at least \u001b[39m\u001b[38;5;124m\"\u001b[39m\n\u001b[1;32m     89\u001b[0m         \u001b[38;5;124mf\u001b[39m\u001b[38;5;124m\"\u001b[39m\u001b[38;5;132;01m{\u001b[39;00m\u001b[38;5;241m1\u001b[39m\u001b[38;5;241m/\u001b[39mn\u001b[38;5;132;01m:\u001b[39;00m\u001b[38;5;124m.3f\u001b[39m\u001b[38;5;132;01m}\u001b[39;00m\u001b[38;5;124m or provide more assets.\u001b[39m\u001b[38;5;124m\"\u001b[39m\n\u001b[1;32m     90\u001b[0m )\n\u001b[1;32m     92\u001b[0m \u001b[38;5;66;03m# Initialize weights if not provided\u001b[39;00m\n\u001b[1;32m     93\u001b[0m \u001b[38;5;28;01mif\u001b[39;00m w0 \u001b[38;5;129;01mis\u001b[39;00m \u001b[38;5;28;01mNone\u001b[39;00m:\n",
      "\u001b[0;31mValueError\u001b[0m: Constraints impossible to satisfy: with 1 assets and max weight 0.025, maximum possible weight sum is 0.03. Either increase u to at least 1.000 or provide more assets."
     ]
    }
   ],
   "source": [
    "from replicate.data.loading import DataLoader\n",
    "from replicate.data.analysis import train_test_split_data, analyze_train_test_results\n",
    "from replicate.optimizers.mm import MMOptimizer\n",
    "\n",
    "# Initialize loader and optimizer\n",
    "loader = DataLoader()\n",
    "optimizer = MMOptimizer(measure='ete')\n",
    "\n",
    "sym = 'SP500'\n",
    "START_DATE = '2010-01-01'\n",
    "END_DATE = '2010-12-31'\n",
    "\n",
    "data = train_test_split_data(\n",
    "    loader=loader,\n",
    "    data_type=DataLoader.SP500_2010,\n",
    "    target_symbol=sym,\n",
    "    train_pct=0.5,\n",
    "    start_date=START_DATE,\n",
    "    end_date=END_DATE,\n",
    "    time_col='Date'\n",
    ")\n",
    "\n",
    "result_dict = optimizer.optimize(\n",
    "    data['train']['X'], \n",
    "    data['train']['r'], \n",
    "    lambda_=1e-7, \n",
    "    u=0.025, \n",
    "    p_neg_exp=8, \n",
    "    thres=1e-3,\n",
    "    hub=0.5\n",
    ")\n",
    "\n",
    "# Create equal weights\n",
    "n_assets = len(result_dict['weights'])\n",
    "equal_weights = np.ones(n_assets) / n_assets\n",
    "\n",
    "# Debug the data\n",
    "debug_data_scaling(data['train'], data['test'], equal_weights)\n",
    "\n",
    "train_metrics, test_metrics = analyze_train_test_results(\n",
    "    train_data=data['train'],\n",
    "    test_data=data['test'],\n",
    "    weights=random_weights,\n",
    "    asset_names=data['asset_names'],\n",
    "    title_prefix=f\"{sym} Tracking\",\n",
    "    plot_combined=True  # This will use the new combined visualization\n",
    ")"
   ]
  },
  {
   "cell_type": "code",
   "execution_count": 13,
   "metadata": {},
   "outputs": [],
   "source": [
    "\n",
    "import polars as pl\n",
    "\n",
    "train_pct = 0.5\n",
    "time_col = 'Date'\n",
    "\n",
    "target, constituents = loader.load(\n",
    "        data_type=DataLoader.SP500_2010\n",
    "    )\n",
    "\n",
    "n_samples = target.select(pl.len()).collect().item()\n",
    "train_size = int(n_samples * train_pct)\n",
    "\n",
    "# Get asset names before any filtering\n",
    "asset_names = [c for c in constituents.collect_schema().names() if c != time_col]\n",
    "\n",
    "# Create train/test splits using row numbers\n",
    "with_row_nums = target.with_row_index(\"row_num\")\n",
    "train_filter = pl.col(\"row_num\") < train_size\n",
    "test_filter = pl.col(\"row_num\") >= train_size\n",
    "\n",
    "constituents_with_nums = constituents.with_row_index(\"row_num\")\n",
    "train_X = constituents_with_nums.filter(train_filter).drop([\"row_num\", time_col])\n",
    "test_X = constituents_with_nums.filter(test_filter).drop([\"row_num\", time_col])"
   ]
  },
  {
   "cell_type": "code",
   "execution_count": 17,
   "metadata": {},
   "outputs": [
    {
     "data": {
      "text/html": [
       "<div><style>\n",
       ".dataframe > thead > tr,\n",
       ".dataframe > tbody > tr {\n",
       "  text-align: right;\n",
       "  white-space: pre-wrap;\n",
       "}\n",
       "</style>\n",
       "<small>shape: (252, 387)</small><table border=\"1\" class=\"dataframe\"><thead><tr><th>1436513D UN Equity</th><th>1500785D UN Equity</th><th>1518855D US Equity</th><th>9876566D UN Equity</th><th>A UN Equity</th><th>AA UN Equity</th><th>AAPL UW Equity</th><th>ABC UN Equity</th><th>ABT UN Equity</th><th>ADBE UW Equity</th><th>ADM UN Equity</th><th>ADP UW Equity</th><th>ADSK UW Equity</th><th>AEE UN Equity</th><th>AEP UN Equity</th><th>AES UN Equity</th><th>AET UN Equity</th><th>AFL UN Equity</th><th>AGN UN Equity</th><th>AIG UN Equity</th><th>AIV UN Equity</th><th>AIZ UN Equity</th><th>AKAM UW Equity</th><th>ALL UN Equity</th><th>ALTR UW Equity</th><th>AMAT UW Equity</th><th>AMGN UW Equity</th><th>AMP UN Equity</th><th>AMT UN Equity</th><th>AMZN UW Equity</th><th>AN UN Equity</th><th>ANTM UN Equity</th><th>AON UN Equity</th><th>APA UN Equity</th><th>APC UN Equity</th><th>APD UN Equity</th><th>APH UN Equity</th><th>&hellip;</th><th>UNH UN Equity</th><th>UNM UN Equity</th><th>UNP UN Equity</th><th>UPS UN Equity</th><th>USB UN Equity</th><th>UTX UN Equity</th><th>V UN Equity</th><th>VAR UN Equity</th><th>VFC UN Equity</th><th>VLO UN Equity</th><th>VMC UN Equity</th><th>VNO UN Equity</th><th>VRSN UW Equity</th><th>VTR UN Equity</th><th>VZ UN Equity</th><th>WAT UN Equity</th><th>WEC UN Equity</th><th>WFC UN Equity</th><th>WFM UW Equity</th><th>WHR UN Equity</th><th>WM UN Equity</th><th>WMB UN Equity</th><th>WMT UN Equity</th><th>WU UN Equity</th><th>WY UN Equity</th><th>WYN UN Equity</th><th>WYNN UW Equity</th><th>XEL UN Equity</th><th>XL UN Equity</th><th>XLNX UW Equity</th><th>XOM UN Equity</th><th>XRAY UW Equity</th><th>XRX UN Equity</th><th>YUM UN Equity</th><th>ZBH UN Equity</th><th>ZION UW Equity</th><th>Date</th></tr><tr><td>f64</td><td>f64</td><td>f64</td><td>f64</td><td>f64</td><td>f64</td><td>f64</td><td>f64</td><td>f64</td><td>f64</td><td>f64</td><td>f64</td><td>f64</td><td>f64</td><td>f64</td><td>f64</td><td>f64</td><td>f64</td><td>f64</td><td>f64</td><td>f64</td><td>f64</td><td>f64</td><td>f64</td><td>f64</td><td>f64</td><td>f64</td><td>f64</td><td>f64</td><td>f64</td><td>f64</td><td>f64</td><td>f64</td><td>f64</td><td>f64</td><td>f64</td><td>f64</td><td>&hellip;</td><td>f64</td><td>f64</td><td>f64</td><td>f64</td><td>f64</td><td>f64</td><td>f64</td><td>f64</td><td>f64</td><td>f64</td><td>f64</td><td>f64</td><td>f64</td><td>f64</td><td>f64</td><td>f64</td><td>f64</td><td>f64</td><td>f64</td><td>f64</td><td>f64</td><td>f64</td><td>f64</td><td>f64</td><td>f64</td><td>f64</td><td>f64</td><td>f64</td><td>f64</td><td>f64</td><td>f64</td><td>f64</td><td>f64</td><td>f64</td><td>f64</td><td>f64</td><td>str</td></tr></thead><tbody><tr><td>0.020559</td><td>-0.008016</td><td>0.01907</td><td>0.009762</td><td>0.007401</td><td>0.03288</td><td>0.015746</td><td>0.021479</td><td>0.008706</td><td>0.008428</td><td>0.005112</td><td>0.000234</td><td>0.010232</td><td>-0.006799</td><td>0.004311</td><td>0.02705</td><td>0.041037</td><td>0.02854</td><td>0.017167</td><td>-0.003004</td><td>0.002506</td><td>0.023064</td><td>0.023293</td><td>0.012317</td><td>0.01635</td><td>0.025823</td><td>0.020672</td><td>0.027287</td><td>0.005796</td><td>-0.004609</td><td>0.006266</td><td>0.025049</td><td>-0.010434</td><td>0.02617</td><td>0.037168</td><td>0.025908</td><td>-0.005199</td><td>&hellip;</td><td>0.034422</td><td>0.021512</td><td>0.023316</td><td>0.014124</td><td>0.016439</td><td>0.031983</td><td>0.007778</td><td>0.006829</td><td>0.001913</td><td>0.068054</td><td>0.001135</td><td>0.001144</td><td>0.020628</td><td>-0.008917</td><td>0.004523</td><td>-0.005326</td><td>-0.002008</td><td>0.012229</td><td>0.014574</td><td>0.015983</td><td>0.010351</td><td>0.025147</td><td>0.014593</td><td>0.012732</td><td>0.026424</td><td>0.005455</td><td>0.098403</td><td>-0.0066</td><td>0.021273</td><td>0.012768</td><td>0.014078</td><td>0.00455</td><td>0.020096</td><td>0.003432</td><td>0.015396</td><td>0.038969</td><td>&quot;2010-01-04&quot;</td></tr><tr><td>0.028056</td><td>-0.008081</td><td>0.007602</td><td>-0.016714</td><td>-0.010862</td><td>-0.031233</td><td>0.000934</td><td>-0.007134</td><td>-0.00808</td><td>0.016446</td><td>0.005401</td><td>-0.005371</td><td>-0.015193</td><td>-0.003962</td><td>-0.011451</td><td>-0.01024</td><td>-0.014259</td><td>0.029012</td><td>-0.009937</td><td>-0.018734</td><td>0.025067</td><td>0.029844</td><td>0.029707</td><td>0.016441</td><td>-0.012172</td><td>-0.007687</td><td>-0.009006</td><td>0.023324</td><td>0.01655</td><td>0.0059</td><td>0.015568</td><td>0.010888</td><td>-0.006326</td><td>0.011807</td><td>0.028113</td><td>-0.008298</td><td>-0.020896</td><td>&hellip;</td><td>-0.001563</td><td>0.014548</td><td>0.013916</td><td>0.001709</td><td>0.025347</td><td>-0.014929</td><td>-0.011461</td><td>0.014206</td><td>0.019077</td><td>0.025715</td><td>0.003805</td><td>-0.00757</td><td>0.01051</td><td>0.004843</td><td>0.001806</td><td>-0.01363</td><td>-0.013067</td><td>0.02745</td><td>-0.008259</td><td>-0.002066</td><td>-0.004392</td><td>0.012494</td><td>-0.009958</td><td>-0.004191</td><td>0.021228</td><td>0.021201</td><td>0.060819</td><td>-0.011862</td><td>-0.006945</td><td>-0.012607</td><td>0.003906</td><td>-0.01189</td><td>0.00116</td><td>-0.00342</td><td>0.031655</td><td>0.035256</td><td>&quot;2010-01-05&quot;</td></tr><tr><td>0.009101</td><td>0.005639</td><td>-0.003482</td><td>-0.014542</td><td>-0.003554</td><td>0.052076</td><td>-0.015907</td><td>-0.009453</td><td>0.005554</td><td>-0.002122</td><td>-0.002529</td><td>-0.002349</td><td>0.002373</td><td>-0.006873</td><td>0.010134</td><td>-0.010346</td><td>-0.004009</td><td>0.008783</td><td>0.003253</td><td>-0.006478</td><td>0.017725</td><td>-0.0029</td><td>-0.008243</td><td>0.000325</td><td>-0.011885</td><td>-0.00212</td><td>-0.0075</td><td>0.013966</td><td>0.005219</td><td>-0.018116</td><td>0.038324</td><td>0.016221</td><td>-0.000262</td><td>0.015683</td><td>0.008714</td><td>-0.008246</td><td>0.003781</td><td>&hellip;</td><td>0.009853</td><td>0.008897</td><td>0.001507</td><td>-0.007378</td><td>0.010658</td><td>-0.005249</td><td>-0.013429</td><td>0.006062</td><td>-0.004013</td><td>0.025071</td><td>0.017378</td><td>-0.004029</td><td>-0.010801</td><td>-0.011248</td><td>-0.028752</td><td>0.00181</td><td>0.010185</td><td>0.001427</td><td>0.011586</td><td>-0.008815</td><td>-0.000293</td><td>0.032452</td><td>-0.002234</td><td>-0.000527</td><td>-0.011057</td><td>0.018835</td><td>-0.013116</td><td>0.001923</td><td>-0.010215</td><td>-0.006784</td><td>0.008642</td><td>0.006589</td><td>-0.009259</td><td>-0.007148</td><td>-0.000323</td><td>0.086959</td><td>&quot;2010-01-06&quot;</td></tr><tr><td>0.000345</td><td>0.009348</td><td>-0.027373</td><td>0.028265</td><td>-0.001294</td><td>-0.021214</td><td>-0.001848</td><td>-0.016039</td><td>0.008284</td><td>-0.019405</td><td>-0.010457</td><td>-0.000471</td><td>0.00513</td><td>-0.009468</td><td>0.0086</td><td>0.000744</td><td>0.031798</td><td>0.010734</td><td>-0.007993</td><td>-0.019221</td><td>0.036638</td><td>0.01227</td><td>0.000378</td><td>0.005172</td><td>-0.004901</td><td>-0.010587</td><td>-0.009156</td><td>0.007502</td><td>-0.002708</td><td>-0.017013</td><td>0.017717</td><td>0.037141</td><td>-0.002908</td><td>-0.015166</td><td>-0.001639</td><td>-0.005747</td><td>-0.006645</td><td>&hellip;</td><td>0.038357</td><td>0.022047</td><td>-0.008885</td><td>-0.007605</td><td>0.019404</td><td>0.004273</td><td>0.009306</td><td>-0.016414</td><td>0.019337</td><td>0.007443</td><td>-0.012623</td><td>0.015461</td><td>-0.013748</td><td>0.011146</td><td>-0.005953</td><td>0.004269</td><td>-0.002018</td><td>0.036285</td><td>-0.004294</td><td>0.021468</td><td>0.002353</td><td>-0.007088</td><td>0.000559</td><td>0.032109</td><td>-0.004471</td><td>-0.001424</td><td>0.021356</td><td>-0.004312</td><td>0.000001</td><td>-0.010044</td><td>-0.00314</td><td>0.013091</td><td>0.004673</td><td>-0.000286</td><td>0.02294</td><td>0.111998</td><td>&quot;2010-01-07&quot;</td></tr><tr><td>-0.007627</td><td>0.000614</td><td>0.000001</td><td>-0.012935</td><td>-0.000326</td><td>0.024686</td><td>0.006647</td><td>0.010867</td><td>0.005112</td><td>-0.005422</td><td>-0.012487</td><td>-0.001412</td><td>0.031017</td><td>-0.006982</td><td>0.011935</td><td>0.028356</td><td>-0.021813</td><td>-0.010019</td><td>-0.007297</td><td>0.026595</td><td>-0.023179</td><td>0.000637</td><td>0.000001</td><td>0.004185</td><td>0.019249</td><td>0.039256</td><td>0.008878</td><td>0.003609</td><td>0.002018</td><td>0.027077</td><td>0.000484</td><td>0.004397</td><td>0.008224</td><td>-0.005226</td><td>0.000447</td><td>0.006395</td><td>0.007355</td><td>&hellip;</td><td>-0.009396</td><td>-0.013422</td><td>0.033887</td><td>0.04808</td><td>0.001652</td><td>0.001983</td><td>0.002769</td><td>0.001057</td><td>-0.005273</td><td>-0.01372</td><td>-0.009794</td><td>-0.011099</td><td>0.007788</td><td>-0.011023</td><td>0.00063</td><td>0.000818</td><td>0.005865</td><td>-0.009266</td><td>0.005034</td><td>0.02126</td><td>0.004695</td><td>0.00803</td><td>-0.005035</td><td>0.009685</td><td>-0.009209</td><td>-0.009967</td><td>-0.007165</td><td>0.000482</td><td>-0.010871</td><td>0.014612</td><td>-0.004012</td><td>0.000001</td><td>-0.003487</td><td>0.000287</td><td>-0.021004</td><td>-0.016186</td><td>&quot;2010-01-08&quot;</td></tr><tr><td>&hellip;</td><td>&hellip;</td><td>&hellip;</td><td>&hellip;</td><td>&hellip;</td><td>&hellip;</td><td>&hellip;</td><td>&hellip;</td><td>&hellip;</td><td>&hellip;</td><td>&hellip;</td><td>&hellip;</td><td>&hellip;</td><td>&hellip;</td><td>&hellip;</td><td>&hellip;</td><td>&hellip;</td><td>&hellip;</td><td>&hellip;</td><td>&hellip;</td><td>&hellip;</td><td>&hellip;</td><td>&hellip;</td><td>&hellip;</td><td>&hellip;</td><td>&hellip;</td><td>&hellip;</td><td>&hellip;</td><td>&hellip;</td><td>&hellip;</td><td>&hellip;</td><td>&hellip;</td><td>&hellip;</td><td>&hellip;</td><td>&hellip;</td><td>&hellip;</td><td>&hellip;</td><td>&hellip;</td><td>&hellip;</td><td>&hellip;</td><td>&hellip;</td><td>&hellip;</td><td>&hellip;</td><td>&hellip;</td><td>&hellip;</td><td>&hellip;</td><td>&hellip;</td><td>&hellip;</td><td>&hellip;</td><td>&hellip;</td><td>&hellip;</td><td>&hellip;</td><td>&hellip;</td><td>&hellip;</td><td>&hellip;</td><td>&hellip;</td><td>&hellip;</td><td>&hellip;</td><td>&hellip;</td><td>&hellip;</td><td>&hellip;</td><td>&hellip;</td><td>&hellip;</td><td>&hellip;</td><td>&hellip;</td><td>&hellip;</td><td>&hellip;</td><td>&hellip;</td><td>&hellip;</td><td>&hellip;</td><td>&hellip;</td><td>&hellip;</td><td>&hellip;</td><td>&hellip;</td><td>&hellip;</td></tr><tr><td>-0.004695</td><td>-0.005028</td><td>-0.014354</td><td>0.0005</td><td>0.020696</td><td>-0.007171</td><td>0.003339</td><td>-0.002907</td><td>-0.008996</td><td>0.003241</td><td>-0.003972</td><td>0.001074</td><td>-0.004579</td><td>0.003885</td><td>-0.001113</td><td>-0.004899</td><td>-0.004219</td><td>-0.00245</td><td>0.004049</td><td>0.092951</td><td>0.007056</td><td>0.001306</td><td>0.001871</td><td>0.004696</td><td>-0.001945</td><td>0.005718</td><td>-0.004765</td><td>0.000182</td><td>0.006135</td><td>-0.002465</td><td>-0.001068</td><td>-0.005049</td><td>0.000212</td><td>-0.001435</td><td>0.00321</td><td>0.000992</td><td>0.007424</td><td>&hellip;</td><td>-0.006433</td><td>0.005744</td><td>0.00327</td><td>0.001095</td><td>0.003698</td><td>-0.002905</td><td>0.030264</td><td>-0.000708</td><td>-0.003338</td><td>-0.000439</td><td>-0.008692</td><td>0.011205</td><td>-0.006295</td><td>0.005966</td><td>0.00169</td><td>-0.00289</td><td>0.000342</td><td>0.007097</td><td>-0.004928</td><td>0.005238</td><td>0.00356</td><td>0.0004</td><td>-0.00056</td><td>0.01205</td><td>0.008079</td><td>-0.011377</td><td>-0.008544</td><td>-0.00043</td><td>0.013697</td><td>0.005547</td><td>-0.002596</td><td>0.000001</td><td>-0.005132</td><td>-0.002819</td><td>0.000553</td><td>0.015163</td><td>&quot;2010-12-27&quot;</td></tr><tr><td>-0.004455</td><td>-0.001687</td><td>-0.003034</td><td>-0.000998</td><td>-0.009782</td><td>0.001313</td><td>0.002432</td><td>-0.003207</td><td>0.000209</td><td>-0.000969</td><td>-0.010301</td><td>-0.000859</td><td>-0.003067</td><td>0.002465</td><td>0.004738</td><td>-0.006579</td><td>-0.010734</td><td>-0.001405</td><td>-0.004615</td><td>-0.007579</td><td>0.001947</td><td>0.002353</td><td>-0.008923</td><td>-0.002804</td><td>0.001671</td><td>0.001417</td><td>-0.008509</td><td>0.000343</td><td>0.001779</td><td>-0.005765</td><td>-0.001781</td><td>-0.002802</td><td>-0.003694</td><td>0.001268</td><td>0.005817</td><td>0.003631</td><td>0.000001</td><td>&hellip;</td><td>0.005074</td><td>-0.004078</td><td>-0.001087</td><td>0.000001</td><td>0.002213</td><td>0.000265</td><td>-0.001128</td><td>-0.001133</td><td>0.002887</td><td>-0.004343</td><td>-0.002251</td><td>0.002771</td><td>-0.006635</td><td>0.009572</td><td>0.003382</td><td>-0.004915</td><td>0.005242</td><td>-0.00032</td><td>-0.015447</td><td>-0.000231</td><td>0.001094</td><td>-0.0004</td><td>0.003174</td><td>-0.010825</td><td>0.006947</td><td>-0.007236</td><td>-0.00421</td><td>0.002563</td><td>-0.007653</td><td>0.00138</td><td>0.005617</td><td>-0.000868</td><td>-0.004301</td><td>-0.005854</td><td>-0.005327</td><td>0.014936</td><td>&quot;2010-12-28&quot;</td></tr><tr><td>0.00974</td><td>-0.000561</td><td>0.010956</td><td>-0.001835</td><td>0.004339</td><td>-0.007869</td><td>-0.000552</td><td>0.01316</td><td>0.000633</td><td>0.001617</td><td>-0.001007</td><td>-0.001288</td><td>0.00564</td><td>-0.010184</td><td>0.001943</td><td>0.004965</td><td>0.001963</td><td>-0.00334</td><td>-0.003487</td><td>-0.028169</td><td>0.005824</td><td>-0.001302</td><td>0.00335</td><td>-0.002812</td><td>0.000277</td><td>0.001415</td><td>-0.001603</td><td>0.003634</td><td>0.004895</td><td>0.01259</td><td>0.012848</td><td>-0.001395</td><td>0.004605</td><td>0.009623</td><td>0.022701</td><td>0.000328</td><td>0.002647</td><td>&hellip;</td><td>0.005327</td><td>-0.005735</td><td>0.002613</td><td>-0.001774</td><td>-0.003685</td><td>-0.002398</td><td>-0.001842</td><td>-0.013746</td><td>0.003107</td><td>0.019205</td><td>0.01894</td><td>0.008888</td><td>-0.00091</td><td>-0.002844</td><td>-0.001123</td><td>-0.000507</td><td>-0.003366</td><td>-0.00577</td><td>0.006237</td><td>-0.003428</td><td>0.003819</td><td>0.005274</td><td>0.006326</td><td>0.006565</td><td>0.008493</td><td>0.00033</td><td>0.009046</td><td>-0.000852</td><td>-0.001818</td><td>-0.001034</td><td>-0.000682</td><td>0.000868</td><td>0.007153</td><td>0.007513</td><td>-0.003509</td><td>-0.007767</td><td>&quot;2010-12-29&quot;</td></tr><tr><td>-0.003127</td><td>0.00113</td><td>0.009031</td><td>-0.001839</td><td>-0.002401</td><td>0.005287</td><td>-0.005011</td><td>-0.012124</td><td>0.003165</td><td>-0.012916</td><td>0.005042</td><td>-0.000861</td><td>-0.011216</td><td>-0.003905</td><td>-0.001939</td><td>0.00412</td><td>-0.001639</td><td>-0.010758</td><td>-0.002522</td><td>0.00454</td><td>0.001158</td><td>-0.001306</td><td>-0.005008</td><td>-0.003448</td><td>-0.001945</td><td>0.000711</td><td>-0.006076</td><td>-0.005169</td><td>0.005669</td><td>-0.003381</td><td>0.002819</td><td>-0.005273</td><td>0.002821</td><td>0.002675</td><td>0.068712</td><td>0.002094</td><td>-0.002826</td><td>&hellip;</td><td>0.000832</td><td>-0.003299</td><td>-0.000978</td><td>0.000001</td><td>-0.003329</td><td>-0.00317</td><td>-0.004393</td><td>0.006322</td><td>-0.002981</td><td>-0.008992</td><td>-0.007518</td><td>-0.003453</td><td>0.000306</td><td>0.005132</td><td>-0.000562</td><td>-0.005702</td><td>-0.003209</td><td>-0.006447</td><td>0.011192</td><td>-0.001997</td><td>0.000541</td><td>-0.003635</td><td>-0.000184</td><td>0.008151</td><td>-0.002631</td><td>-0.007947</td><td>-0.00877</td><td>0.002129</td><td>-0.003186</td><td>0.002069</td><td>-0.000135</td><td>-0.006949</td><td>-0.01205</td><td>-0.005845</td><td>-0.001298</td><td>0.000001</td><td>&quot;2010-12-30&quot;</td></tr><tr><td>-0.001047</td><td>0.000561</td><td>-0.007757</td><td>-0.001508</td><td>-0.003847</td><td>0.011834</td><td>-0.0034</td><td>-0.002922</td><td>0.007149</td><td>0.006869</td><td>0.00602</td><td>-0.003232</td><td>-0.01521</td><td>0.004274</td><td>-0.001943</td><td>-0.001643</td><td>0.002961</td><td>0.006062</td><td>0.006232</td><td>0.001563</td><td>-0.00347</td><td>0.007321</td><td>-0.013213</td><td>0.002514</td><td>-0.010016</td><td>-0.005657</td><td>-0.011347</td><td>-0.002082</td><td>0.003301</td><td>-0.015048</td><td>-0.009136</td><td>0.004411</td><td>-0.000867</td><td>-0.005754</td><td>0.00754</td><td>0.000001</td><td>-0.00227</td><td>&hellip;</td><td>0.00471</td><td>0.001243</td><td>0.006516</td><td>-0.001378</td><td>0.001112</td><td>-0.001642</td><td>0.001285</td><td>-0.01071</td><td>-0.007829</td><td>-0.000867</td><td>-0.01048</td><td>-0.00454</td><td>-0.007597</td><td>-0.007377</td><td>0.006189</td><td>-0.009685</td><td>-0.00288</td><td>0.005518</td><td>0.000001</td><td>-0.011023</td><td>0.001359</td><td>0.002437</td><td>-0.00259</td><td>0.001084</td><td>-0.001054</td><td>0.000001</td><td>0.020942</td><td>0.000001</td><td>-0.00456</td><td>-0.002754</td><td>-0.003271</td><td>-0.003791</td><td>0.003484</td><td>-0.005274</td><td>-0.004082</td><td>-0.001648</td><td>&quot;2010-12-31&quot;</td></tr></tbody></table></div>"
      ],
      "text/plain": [
       "shape: (252, 387)\n",
       "┌───────────┬───────────┬───────────┬───────────┬───┬───────────┬───────────┬───────────┬──────────┐\n",
       "│ 1436513D  ┆ 1500785D  ┆ 1518855D  ┆ 9876566D  ┆ … ┆ YUM UN    ┆ ZBH UN    ┆ ZION UW   ┆ Date     │\n",
       "│ UN Equity ┆ UN Equity ┆ US Equity ┆ UN Equity ┆   ┆ Equity    ┆ Equity    ┆ Equity    ┆ ---      │\n",
       "│ ---       ┆ ---       ┆ ---       ┆ ---       ┆   ┆ ---       ┆ ---       ┆ ---       ┆ str      │\n",
       "│ f64       ┆ f64       ┆ f64       ┆ f64       ┆   ┆ f64       ┆ f64       ┆ f64       ┆          │\n",
       "╞═══════════╪═══════════╪═══════════╪═══════════╪═══╪═══════════╪═══════════╪═══════════╪══════════╡\n",
       "│ 0.020559  ┆ -0.008016 ┆ 0.01907   ┆ 0.009762  ┆ … ┆ 0.003432  ┆ 0.015396  ┆ 0.038969  ┆ 2010-01- │\n",
       "│           ┆           ┆           ┆           ┆   ┆           ┆           ┆           ┆ 04       │\n",
       "│ 0.028056  ┆ -0.008081 ┆ 0.007602  ┆ -0.016714 ┆ … ┆ -0.00342  ┆ 0.031655  ┆ 0.035256  ┆ 2010-01- │\n",
       "│           ┆           ┆           ┆           ┆   ┆           ┆           ┆           ┆ 05       │\n",
       "│ 0.009101  ┆ 0.005639  ┆ -0.003482 ┆ -0.014542 ┆ … ┆ -0.007148 ┆ -0.000323 ┆ 0.086959  ┆ 2010-01- │\n",
       "│           ┆           ┆           ┆           ┆   ┆           ┆           ┆           ┆ 06       │\n",
       "│ 0.000345  ┆ 0.009348  ┆ -0.027373 ┆ 0.028265  ┆ … ┆ -0.000286 ┆ 0.02294   ┆ 0.111998  ┆ 2010-01- │\n",
       "│           ┆           ┆           ┆           ┆   ┆           ┆           ┆           ┆ 07       │\n",
       "│ -0.007627 ┆ 0.000614  ┆ 0.000001  ┆ -0.012935 ┆ … ┆ 0.000287  ┆ -0.021004 ┆ -0.016186 ┆ 2010-01- │\n",
       "│           ┆           ┆           ┆           ┆   ┆           ┆           ┆           ┆ 08       │\n",
       "│ …         ┆ …         ┆ …         ┆ …         ┆ … ┆ …         ┆ …         ┆ …         ┆ …        │\n",
       "│ -0.004695 ┆ -0.005028 ┆ -0.014354 ┆ 0.0005    ┆ … ┆ -0.002819 ┆ 0.000553  ┆ 0.015163  ┆ 2010-12- │\n",
       "│           ┆           ┆           ┆           ┆   ┆           ┆           ┆           ┆ 27       │\n",
       "│ -0.004455 ┆ -0.001687 ┆ -0.003034 ┆ -0.000998 ┆ … ┆ -0.005854 ┆ -0.005327 ┆ 0.014936  ┆ 2010-12- │\n",
       "│           ┆           ┆           ┆           ┆   ┆           ┆           ┆           ┆ 28       │\n",
       "│ 0.00974   ┆ -0.000561 ┆ 0.010956  ┆ -0.001835 ┆ … ┆ 0.007513  ┆ -0.003509 ┆ -0.007767 ┆ 2010-12- │\n",
       "│           ┆           ┆           ┆           ┆   ┆           ┆           ┆           ┆ 29       │\n",
       "│ -0.003127 ┆ 0.00113   ┆ 0.009031  ┆ -0.001839 ┆ … ┆ -0.005845 ┆ -0.001298 ┆ 0.000001  ┆ 2010-12- │\n",
       "│           ┆           ┆           ┆           ┆   ┆           ┆           ┆           ┆ 30       │\n",
       "│ -0.001047 ┆ 0.000561  ┆ -0.007757 ┆ -0.001508 ┆ … ┆ -0.005274 ┆ -0.004082 ┆ -0.001648 ┆ 2010-12- │\n",
       "│           ┆           ┆           ┆           ┆   ┆           ┆           ┆           ┆ 31       │\n",
       "└───────────┴───────────┴───────────┴───────────┴───┴───────────┴───────────┴───────────┴──────────┘"
      ]
     },
     "execution_count": 17,
     "metadata": {},
     "output_type": "execute_result"
    }
   ],
   "source": [
    "target.collect()"
   ]
  },
  {
   "cell_type": "code",
   "execution_count": null,
   "metadata": {},
   "outputs": [],
   "source": []
  }
 ],
 "metadata": {
  "kernelspec": {
   "display_name": "base",
   "language": "python",
   "name": "python3"
  },
  "language_info": {
   "codemirror_mode": {
    "name": "ipython",
    "version": 3
   },
   "file_extension": ".py",
   "mimetype": "text/x-python",
   "name": "python",
   "nbconvert_exporter": "python",
   "pygments_lexer": "ipython3",
   "version": "3.11.5"
  }
 },
 "nbformat": 4,
 "nbformat_minor": 2
}
